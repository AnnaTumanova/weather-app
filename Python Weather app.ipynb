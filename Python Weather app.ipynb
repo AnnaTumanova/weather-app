{
 "cells": [
  {
   "cell_type": "markdown",
   "metadata": {},
   "source": [
    "## Importing important modules"
   ]
  },
  {
   "cell_type": "code",
   "execution_count": 12,
   "metadata": {},
   "outputs": [],
   "source": [
    "import pyowm #module for requesting the data of the weather"
   ]
  },
  {
   "cell_type": "code",
   "execution_count": 3,
   "metadata": {},
   "outputs": [],
   "source": [
    "import requests as rq #module for making requests"
   ]
  },
  {
   "cell_type": "markdown",
   "metadata": {},
   "source": [
    "### Class that gives you current weather in particular city"
   ]
  },
  {
   "cell_type": "code",
   "execution_count": 66,
   "metadata": {},
   "outputs": [],
   "source": [
    "class current_weather:\n",
    "    def greatings(self):#function that greatings you\n",
    "        name=str(input(\"Please write your name...\"))\n",
    "        greatings=\"Nice to meet you  \"+name\n",
    "        print (greatings)\n",
    "        \n",
    "    def weather(self): #gives the current temperature in celsius\n",
    "        api='8c8f2d5a2d173fe322b90fce27a159c2'#here should be your own api key\n",
    "        city=str(input(\"Write a city name  \"))\n",
    "        owm=pyowm.OWM(api)\n",
    "        location=owm.weather_at_place(city)\n",
    "        weather=location.get_weather()\n",
    "        aver_tmp=weather.get_temperature(\"celsius\").get('temp')\n",
    "        weather_in_the_city=\"The average weather in \"+city+\" is \"+str(aver_tmp)\n",
    "        print (weather_in_the_city)\n",
    "        \n",
    "        "
   ]
  },
  {
   "cell_type": "code",
   "execution_count": 67,
   "metadata": {},
   "outputs": [],
   "source": [
    "Warsaw=current_weather()#making the instance of the class"
   ]
  },
  {
   "cell_type": "code",
   "execution_count": null,
   "metadata": {},
   "outputs": [],
   "source": [
    "#Calling the functions"
   ]
  },
  {
   "cell_type": "code",
   "execution_count": 68,
   "metadata": {},
   "outputs": [
    {
     "name": "stdout",
     "output_type": "stream",
     "text": [
      "Please write your name...Pope\n",
      "Nice to meet you  Pope\n"
     ]
    }
   ],
   "source": [
    "Warsaw.greatings()"
   ]
  },
  {
   "cell_type": "code",
   "execution_count": 69,
   "metadata": {},
   "outputs": [
    {
     "name": "stdout",
     "output_type": "stream",
     "text": [
      "Write a city name  Warsaw\n",
      "The average weather in Warsaw is 22.45\n"
     ]
    }
   ],
   "source": [
    "Warsaw.weather()"
   ]
  },
  {
   "cell_type": "code",
   "execution_count": null,
   "metadata": {},
   "outputs": [],
   "source": []
  }
 ],
 "metadata": {
  "kernelspec": {
   "display_name": "Python 3",
   "language": "python",
   "name": "python3"
  },
  "language_info": {
   "codemirror_mode": {
    "name": "ipython",
    "version": 3
   },
   "file_extension": ".py",
   "mimetype": "text/x-python",
   "name": "python",
   "nbconvert_exporter": "python",
   "pygments_lexer": "ipython3",
   "version": "3.7.1"
  }
 },
 "nbformat": 4,
 "nbformat_minor": 2
}
